{
 "cells": [
  {
   "cell_type": "code",
   "execution_count": 2,
   "metadata": {
    "collapsed": true
   },
   "outputs": [],
   "source": [
    "import pandas as pd\n",
    "import numpy as np\n",
    "import os\n",
    "import urllib\n",
    "import zipfile"
   ]
  },
  {
   "cell_type": "markdown",
   "metadata": {},
   "source": [
    "## Download Data"
   ]
  },
  {
   "cell_type": "code",
   "execution_count": 3,
   "metadata": {},
   "outputs": [
    {
     "name": "stdout",
     "output_type": "stream",
     "text": [
      "Data exist\n"
     ]
    }
   ],
   "source": [
    "if not os.path.isfile('./sudoku.csv'):\n",
    "    opener = urllib.URLopener()\n",
    "    opener.retrieve('https://www.kaggle.com/bryanpark/sudoku/downloads/sudoku.zip', 'data.zip')\n",
    "    zip_ref = zipfile.ZipFile('./data.zip', 'r')\n",
    "    zip_ref.extractall('./')\n",
    "    zip_ref.close()\n",
    "    os.remove('./data.zip')\n",
    "    print('Data downloaded and unzipped')\n",
    "else:\n",
    "    print('Data exist')"
   ]
  },
  {
   "cell_type": "markdown",
   "metadata": {},
   "source": [
    "## Load Data and Check"
   ]
  },
  {
   "cell_type": "code",
   "execution_count": 2,
   "metadata": {},
   "outputs": [
    {
     "data": {
      "text/html": [
       "<div>\n",
       "<style>\n",
       "    .dataframe thead tr:only-child th {\n",
       "        text-align: right;\n",
       "    }\n",
       "\n",
       "    .dataframe thead th {\n",
       "        text-align: left;\n",
       "    }\n",
       "\n",
       "    .dataframe tbody tr th {\n",
       "        vertical-align: top;\n",
       "    }\n",
       "</style>\n",
       "<table border=\"1\" class=\"dataframe\">\n",
       "  <thead>\n",
       "    <tr style=\"text-align: right;\">\n",
       "      <th></th>\n",
       "      <th>quizzes</th>\n",
       "      <th>solutions</th>\n",
       "    </tr>\n",
       "  </thead>\n",
       "  <tbody>\n",
       "    <tr>\n",
       "      <th>0</th>\n",
       "      <td>0043002090050090010700600430060020871900074000...</td>\n",
       "      <td>8643712593258497619712658434361925871986574322...</td>\n",
       "    </tr>\n",
       "    <tr>\n",
       "      <th>1</th>\n",
       "      <td>0401000501070039605200080000000000170009068008...</td>\n",
       "      <td>3461792581875239645296483719658324174729168358...</td>\n",
       "    </tr>\n",
       "    <tr>\n",
       "      <th>2</th>\n",
       "      <td>6001203840084590720000060050002640300700800069...</td>\n",
       "      <td>6951273841384596727248369158512647392739815469...</td>\n",
       "    </tr>\n",
       "    <tr>\n",
       "      <th>3</th>\n",
       "      <td>4972000001004000050000160986203000403009000000...</td>\n",
       "      <td>4972583161864397252537164986293815473759641828...</td>\n",
       "    </tr>\n",
       "    <tr>\n",
       "      <th>4</th>\n",
       "      <td>0059103080094030600275001000300002010008200070...</td>\n",
       "      <td>4659123781894735623275681497386452919548216372...</td>\n",
       "    </tr>\n",
       "  </tbody>\n",
       "</table>\n",
       "</div>"
      ],
      "text/plain": [
       "                                             quizzes  \\\n",
       "0  0043002090050090010700600430060020871900074000...   \n",
       "1  0401000501070039605200080000000000170009068008...   \n",
       "2  6001203840084590720000060050002640300700800069...   \n",
       "3  4972000001004000050000160986203000403009000000...   \n",
       "4  0059103080094030600275001000300002010008200070...   \n",
       "\n",
       "                                           solutions  \n",
       "0  8643712593258497619712658434361925871986574322...  \n",
       "1  3461792581875239645296483719658324174729168358...  \n",
       "2  6951273841384596727248369158512647392739815469...  \n",
       "3  4972583161864397252537164986293815473759641828...  \n",
       "4  4659123781894735623275681497386452919548216372...  "
      ]
     },
     "execution_count": 2,
     "metadata": {},
     "output_type": "execute_result"
    }
   ],
   "source": [
    "table = pd.read_csv('./sudoku.csv')\n",
    "table.head()"
   ]
  },
  {
   "cell_type": "code",
   "execution_count": 3,
   "metadata": {},
   "outputs": [
    {
     "data": {
      "text/plain": [
       "'004300209005009001070060043006002087190007400050083000600000105003508690042910300'"
      ]
     },
     "execution_count": 3,
     "metadata": {},
     "output_type": "execute_result"
    }
   ],
   "source": [
    "data = table.as_matrix()\n",
    "data[0,0]"
   ]
  },
  {
   "cell_type": "code",
   "execution_count": 6,
   "metadata": {},
   "outputs": [
    {
     "data": {
      "text/plain": [
       "array([[0, 0, 4, 3, 0, 0, 2, 0, 9],\n",
       "       [0, 0, 5, 0, 0, 9, 0, 0, 1],\n",
       "       [0, 7, 0, 0, 6, 0, 0, 4, 3],\n",
       "       [0, 0, 6, 0, 0, 2, 0, 8, 7],\n",
       "       [1, 9, 0, 0, 0, 7, 4, 0, 0],\n",
       "       [0, 5, 0, 0, 8, 3, 0, 0, 0],\n",
       "       [6, 0, 0, 0, 0, 0, 1, 0, 5],\n",
       "       [0, 0, 3, 5, 0, 8, 6, 9, 0],\n",
       "       [0, 4, 2, 9, 1, 0, 3, 0, 0]])"
      ]
     },
     "execution_count": 6,
     "metadata": {},
     "output_type": "execute_result"
    }
   ],
   "source": [
    "exp1 = [int(x) for x in data[0,0]]\n",
    "np.array(exp1).reshape(9,9)"
   ]
  },
  {
   "cell_type": "markdown",
   "metadata": {},
   "source": [
    "## Transfer Data into Numpy Array"
   ]
  },
  {
   "cell_type": "code",
   "execution_count": 15,
   "metadata": {
    "collapsed": true
   },
   "outputs": [],
   "source": [
    "quizzes = np.zeros((1000000, 81), np.int32)\n",
    "solutions = np.zeros((1000000, 81), np.int32)\n",
    "for i, line in enumerate(open('sudoku.csv', 'r').read().splitlines()[1:]):\n",
    "    quiz, solution = line.split(\",\")\n",
    "    for j, q_s in enumerate(zip(quiz, solution)):\n",
    "        q, s = q_s\n",
    "        quizzes[i, j] = q\n",
    "        solutions[i, j] = s\n",
    "quizzes = quizzes.reshape((-1, 9, 9))\n",
    "solutions = solutions.reshape((-1, 9, 9))"
   ]
  },
  {
   "cell_type": "code",
   "execution_count": 16,
   "metadata": {},
   "outputs": [
    {
     "data": {
      "text/plain": [
       "(1000000, 9, 9)"
      ]
     },
     "execution_count": 16,
     "metadata": {},
     "output_type": "execute_result"
    }
   ],
   "source": [
    "quizzes.shape"
   ]
  },
  {
   "cell_type": "code",
   "execution_count": 18,
   "metadata": {
    "collapsed": true
   },
   "outputs": [],
   "source": [
    "transfer_data = np.concatenate((quizzes.reshape(-1, 1, 81), solutions.reshape(-1, 1, 81)), axis=1)"
   ]
  },
  {
   "cell_type": "code",
   "execution_count": 19,
   "metadata": {},
   "outputs": [
    {
     "data": {
      "text/plain": [
       "(1000000, 2, 81)"
      ]
     },
     "execution_count": 19,
     "metadata": {},
     "output_type": "execute_result"
    }
   ],
   "source": [
    "transfer_data.shape"
   ]
  },
  {
   "cell_type": "code",
   "execution_count": 20,
   "metadata": {},
   "outputs": [
    {
     "data": {
      "text/plain": [
       "array([0, 0, 4, 3, 0, 0, 2, 0, 9, 0, 0, 5, 0, 0, 9, 0, 0, 1, 0, 7, 0, 0, 6,\n",
       "       0, 0, 4, 3, 0, 0, 6, 0, 0, 2, 0, 8, 7, 1, 9, 0, 0, 0, 7, 4, 0, 0, 0,\n",
       "       5, 0, 0, 8, 3, 0, 0, 0, 6, 0, 0, 0, 0, 0, 1, 0, 5, 0, 0, 3, 5, 0, 8,\n",
       "       6, 9, 0, 0, 4, 2, 9, 1, 0, 3, 0, 0], dtype=int32)"
      ]
     },
     "execution_count": 20,
     "metadata": {},
     "output_type": "execute_result"
    }
   ],
   "source": [
    "transfer_data[0,0,:]"
   ]
  },
  {
   "cell_type": "code",
   "execution_count": 21,
   "metadata": {},
   "outputs": [
    {
     "data": {
      "text/plain": [
       "array([8, 6, 4, 3, 7, 1, 2, 5, 9, 3, 2, 5, 8, 4, 9, 7, 6, 1, 9, 7, 1, 2, 6,\n",
       "       5, 8, 4, 3, 4, 3, 6, 1, 9, 2, 5, 8, 7, 1, 9, 8, 6, 5, 7, 4, 3, 2, 2,\n",
       "       5, 7, 4, 8, 3, 9, 1, 6, 6, 8, 9, 7, 3, 4, 1, 2, 5, 7, 1, 3, 5, 2, 8,\n",
       "       6, 9, 4, 5, 4, 2, 9, 1, 6, 3, 7, 8], dtype=int32)"
      ]
     },
     "execution_count": 21,
     "metadata": {},
     "output_type": "execute_result"
    }
   ],
   "source": [
    "transfer_data[0,1,:]"
   ]
  },
  {
   "cell_type": "code",
   "execution_count": 23,
   "metadata": {
    "collapsed": true
   },
   "outputs": [],
   "source": [
    "np.save('tranfer_data', transfer_data)"
   ]
  }
 ],
 "metadata": {
  "kernelspec": {
   "display_name": "Python 2",
   "language": "python",
   "name": "python2"
  },
  "language_info": {
   "codemirror_mode": {
    "name": "ipython",
    "version": 2
   },
   "file_extension": ".py",
   "mimetype": "text/x-python",
   "name": "python",
   "nbconvert_exporter": "python",
   "pygments_lexer": "ipython2",
   "version": "2.7.13"
  }
 },
 "nbformat": 4,
 "nbformat_minor": 2
}
